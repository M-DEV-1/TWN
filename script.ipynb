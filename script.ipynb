{
 "cells": [
  {
   "cell_type": "code",
   "execution_count": 9,
   "metadata": {},
   "outputs": [],
   "source": [
    "import pandas as pd\n",
    "import numpy as np\n",
    "from nltk.corpus import stopwords\n",
    "from nltk.stem import WordNetLemmatizer\n",
    "from nltk.stem import PorterStemmer\n",
    "from nltk.tokenize import word_tokenize\n",
    "\n",
    "# Initialize lemmatizer and stemmer\n",
    "lemmatizer = WordNetLemmatizer()\n",
    "stemmer = PorterStemmer()"
   ]
  },
  {
   "cell_type": "code",
   "execution_count": 12,
   "metadata": {},
   "outputs": [
    {
     "name": "stdout",
     "output_type": "stream",
     "text": [
      "Empty DataFrame\n",
      "Columns: [ID, Synset_name, POS, Synset_gloss, Prob_of_being_Past, Prob_of_being_Present, Prob_of_being_Future, Prob_of_being_Atemporal, Word]\n",
      "Index: []\n"
     ]
    }
   ],
   "source": [
    "# Load TempoWordNet data\n",
    "# ID    Synset_name    POS   Synset_gloss  Prob_of_being_Past    Prob_of_being_Present    Prob_of_being_Future    Prob_of_being_Atemporal\n",
    "columns = [\"ID\", \"Synset_name\", \"POS\", \"Synset_gloss\", \"Prob_of_being_Past\", \"Prob_of_being_Present\", \"Prob_of_being_Future\", \"Prob_of_being_Atemporal\"]\n",
    "tempowordnet_df = pd.read_csv('./TempoWordNet/TempoWnL_1.0.txt', sep='\\t', names=columns)\n",
    "\n",
    "# Ensure 'Name' column has no NaN values and apply the split operation only on valid strings\n",
    "tempowordnet_df['Word'] = tempowordnet_df['Synset_name'].apply(lambda x: x.split('.')[0] if isinstance(x, str) else None)\n",
    "\n",
    "# Drop rows where 'Word' is None (if desired)\n",
    "tempowordnet_df.dropna(subset=['Word'], inplace=True)\n",
    "\n",
    "# Display the dataframe to verify\n",
    "print(tempowordnet_df.head())\n"
   ]
  },
  {
   "cell_type": "code",
   "execution_count": 13,
   "metadata": {},
   "outputs": [],
   "source": [
    "def preprocess_text(text):\n",
    "    # Tokenize\n",
    "    words = word_tokenize(text)\n",
    "    \n",
    "    # Remove stop words\n",
    "    stop_words = set(stopwords.words('english'))\n",
    "    words = [word for word in words if word.lower() not in stop_words]\n",
    "    \n",
    "    # Lemmatize and stem\n",
    "    words = [stemmer.stem(lemmatizer.lemmatize(word)) for word in words]\n",
    "    \n",
    "    return words\n"
   ]
  },
  {
   "cell_type": "code",
   "execution_count": 15,
   "metadata": {},
   "outputs": [],
   "source": [
    "def calculate_temporal_probabilities(words):\n",
    "    temporal_probs = []\n",
    "    \n",
    "    for word in words:\n",
    "        try:\n",
    "            word_probs = tempowordnet_df[tempowordnet_df['Word'] == word].iloc[0]\n",
    "            probs = (word_probs['Past_Prob'], word_probs['Present_Prob'], word_probs['Future_Prob'], word_probs['Atemporal_Prob'])\n",
    "            temporal_probs.append(probs)\n",
    "        except Exception as e:\n",
    "            # Word not found in TempoWordNet, skip it\n",
    "            continue\n",
    "    \n",
    "    if temporal_probs:\n",
    "        avg_probs = np.mean(temporal_probs, axis=0)\n",
    "        return avg_probs\n",
    "    else:\n",
    "        return None\n"
   ]
  },
  {
   "cell_type": "code",
   "execution_count": 16,
   "metadata": {},
   "outputs": [],
   "source": [
    "def process_sentence(sentence):\n",
    "    words = preprocess_text(sentence)\n",
    "    avg_probs = calculate_temporal_probabilities(words)\n",
    "    return avg_probs"
   ]
  },
  {
   "cell_type": "code",
   "execution_count": 17,
   "metadata": {},
   "outputs": [
    {
     "name": "stdout",
     "output_type": "stream",
     "text": [
      "my name is unprocessed\n",
      "No valid words found in TempoWordNet.\n"
     ]
    }
   ],
   "source": [
    "sentence = input('input sentence for processing')\n",
    "print(sentence)\n",
    "avg_temporal_probs = process_sentence(sentence)\n",
    "\n",
    "if avg_temporal_probs is not None:\n",
    "    print(f\"Average Temporal Probabilities for the sentence:\\nPast: {avg_temporal_probs[0]}, Present: {avg_temporal_probs[1]}, Future: {avg_temporal_probs[2]}, Atemporal: {avg_temporal_probs[3]}\")\n",
    "else:\n",
    "    print(\"No valid words found in TempoWordNet.\")"
   ]
  }
 ],
 "metadata": {
  "kernelspec": {
   "display_name": "venv",
   "language": "python",
   "name": "python3"
  },
  "language_info": {
   "codemirror_mode": {
    "name": "ipython",
    "version": 3
   },
   "file_extension": ".py",
   "mimetype": "text/x-python",
   "name": "python",
   "nbconvert_exporter": "python",
   "pygments_lexer": "ipython3",
   "version": "3.12.4"
  }
 },
 "nbformat": 4,
 "nbformat_minor": 2
}
